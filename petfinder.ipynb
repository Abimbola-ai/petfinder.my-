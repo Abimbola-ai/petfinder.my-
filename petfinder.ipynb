{
 "cells": [
  {
   "cell_type": "code",
   "execution_count": 1,
   "metadata": {},
   "outputs": [
    {
     "name": "stderr",
     "output_type": "stream",
     "text": [
      "/Applications/anaconda3/lib/python3.7/site-packages/statsmodels/tools/_testing.py:19: FutureWarning: pandas.util.testing is deprecated. Use the functions in the public API at pandas.testing instead.\n",
      "  import pandas.util.testing as tm\n"
     ]
    }
   ],
   "source": [
    "import pandas as pd   \n",
    "import numpy as np\n",
    "import seaborn as sns\n",
    "import pandas.util.testing as tm\n",
    "import matplotlib.pyplot as plt\n",
    "%matplotlib inline\n",
    "sns.set()"
   ]
  },
  {
   "cell_type": "code",
   "execution_count": 2,
   "metadata": {},
   "outputs": [],
   "source": [
    "breeds = pd.read_csv('data/breed_labels.csv')\n",
    "color = pd.read_csv('data/color_labels.csv')\n",
    "state = pd.read_csv('data/state_labels.csv')\n",
    "\n",
    "train = pd.read_csv('data/train.csv')\n",
    "test = pd.read_csv('data/test/test.csv')\n",
    "sub = pd.read_csv('data/test/sample_submission.csv')"
   ]
  },
  {
   "cell_type": "markdown",
   "metadata": {},
   "source": [
    "# EDA"
   ]
  },
  {
   "cell_type": "code",
   "execution_count": 3,
   "metadata": {},
   "outputs": [
    {
     "data": {
      "text/html": [
       "<div>\n",
       "<style scoped>\n",
       "    .dataframe tbody tr th:only-of-type {\n",
       "        vertical-align: middle;\n",
       "    }\n",
       "\n",
       "    .dataframe tbody tr th {\n",
       "        vertical-align: top;\n",
       "    }\n",
       "\n",
       "    .dataframe thead th {\n",
       "        text-align: right;\n",
       "    }\n",
       "</style>\n",
       "<table border=\"1\" class=\"dataframe\">\n",
       "  <thead>\n",
       "    <tr style=\"text-align: right;\">\n",
       "      <th></th>\n",
       "      <th>BreedID</th>\n",
       "      <th>Type</th>\n",
       "      <th>BreedName</th>\n",
       "    </tr>\n",
       "  </thead>\n",
       "  <tbody>\n",
       "    <tr>\n",
       "      <th>0</th>\n",
       "      <td>1</td>\n",
       "      <td>1</td>\n",
       "      <td>Affenpinscher</td>\n",
       "    </tr>\n",
       "    <tr>\n",
       "      <th>1</th>\n",
       "      <td>2</td>\n",
       "      <td>1</td>\n",
       "      <td>Afghan Hound</td>\n",
       "    </tr>\n",
       "    <tr>\n",
       "      <th>2</th>\n",
       "      <td>3</td>\n",
       "      <td>1</td>\n",
       "      <td>Airedale Terrier</td>\n",
       "    </tr>\n",
       "    <tr>\n",
       "      <th>3</th>\n",
       "      <td>4</td>\n",
       "      <td>1</td>\n",
       "      <td>Akbash</td>\n",
       "    </tr>\n",
       "    <tr>\n",
       "      <th>4</th>\n",
       "      <td>5</td>\n",
       "      <td>1</td>\n",
       "      <td>Akita</td>\n",
       "    </tr>\n",
       "  </tbody>\n",
       "</table>\n",
       "</div>"
      ],
      "text/plain": [
       "   BreedID  Type         BreedName\n",
       "0        1     1     Affenpinscher\n",
       "1        2     1      Afghan Hound\n",
       "2        3     1  Airedale Terrier\n",
       "3        4     1            Akbash\n",
       "4        5     1             Akita"
      ]
     },
     "execution_count": 3,
     "metadata": {},
     "output_type": "execute_result"
    }
   ],
   "source": [
    "breeds.head()"
   ]
  },
  {
   "cell_type": "code",
   "execution_count": 4,
   "metadata": {},
   "outputs": [
    {
     "data": {
      "text/plain": [
       "BreedID      307\n",
       "Type           2\n",
       "BreedName    307\n",
       "dtype: int64"
      ]
     },
     "execution_count": 4,
     "metadata": {},
     "output_type": "execute_result"
    }
   ],
   "source": [
    "breeds.nunique()"
   ]
  },
  {
   "cell_type": "markdown",
   "metadata": {},
   "source": [
    "There are 307 unique breed names in the dataset. They are classified into two types. 1 means dog, cat is 2."
   ]
  },
  {
   "cell_type": "code",
   "execution_count": 5,
   "metadata": {},
   "outputs": [
    {
     "name": "stdout",
     "output_type": "stream",
     "text": [
      "   ColorID ColorName\n",
      "0        1     Black\n",
      "1        2     Brown\n",
      "2        3    Golden\n",
      "3        4    Yellow\n",
      "4        5     Cream\n",
      "5        6      Gray\n",
      "6        7     White\n",
      "Number of unique colors of the animals are:  7\n"
     ]
    }
   ],
   "source": [
    "print(color)\n",
    "print(f\"Number of unique colors of the animals are: \",color[\"ColorName\"].nunique())"
   ]
  },
  {
   "cell_type": "markdown",
   "metadata": {},
   "source": [
    "This color dataset contains the color of the animals. There are 7 unique colors in all."
   ]
  },
  {
   "cell_type": "code",
   "execution_count": 6,
   "metadata": {},
   "outputs": [
    {
     "data": {
      "text/html": [
       "<div>\n",
       "<style scoped>\n",
       "    .dataframe tbody tr th:only-of-type {\n",
       "        vertical-align: middle;\n",
       "    }\n",
       "\n",
       "    .dataframe tbody tr th {\n",
       "        vertical-align: top;\n",
       "    }\n",
       "\n",
       "    .dataframe thead th {\n",
       "        text-align: right;\n",
       "    }\n",
       "</style>\n",
       "<table border=\"1\" class=\"dataframe\">\n",
       "  <thead>\n",
       "    <tr style=\"text-align: right;\">\n",
       "      <th></th>\n",
       "      <th>StateID</th>\n",
       "      <th>StateName</th>\n",
       "    </tr>\n",
       "  </thead>\n",
       "  <tbody>\n",
       "    <tr>\n",
       "      <th>0</th>\n",
       "      <td>41336</td>\n",
       "      <td>Johor</td>\n",
       "    </tr>\n",
       "    <tr>\n",
       "      <th>1</th>\n",
       "      <td>41325</td>\n",
       "      <td>Kedah</td>\n",
       "    </tr>\n",
       "    <tr>\n",
       "      <th>2</th>\n",
       "      <td>41367</td>\n",
       "      <td>Kelantan</td>\n",
       "    </tr>\n",
       "    <tr>\n",
       "      <th>3</th>\n",
       "      <td>41401</td>\n",
       "      <td>Kuala Lumpur</td>\n",
       "    </tr>\n",
       "    <tr>\n",
       "      <th>4</th>\n",
       "      <td>41415</td>\n",
       "      <td>Labuan</td>\n",
       "    </tr>\n",
       "  </tbody>\n",
       "</table>\n",
       "</div>"
      ],
      "text/plain": [
       "   StateID     StateName\n",
       "0    41336         Johor\n",
       "1    41325         Kedah\n",
       "2    41367      Kelantan\n",
       "3    41401  Kuala Lumpur\n",
       "4    41415        Labuan"
      ]
     },
     "execution_count": 6,
     "metadata": {},
     "output_type": "execute_result"
    }
   ],
   "source": [
    "state.head()"
   ]
  },
  {
   "cell_type": "code",
   "execution_count": 7,
   "metadata": {},
   "outputs": [
    {
     "name": "stdout",
     "output_type": "stream",
     "text": [
      "States represented in the dataset are: 15\n"
     ]
    }
   ],
   "source": [
    "print(f\"States represented in the dataset are:\",state[\"StateName\"].nunique())"
   ]
  },
  {
   "cell_type": "code",
   "execution_count": 8,
   "metadata": {},
   "outputs": [
    {
     "data": {
      "text/html": [
       "<div>\n",
       "<style scoped>\n",
       "    .dataframe tbody tr th:only-of-type {\n",
       "        vertical-align: middle;\n",
       "    }\n",
       "\n",
       "    .dataframe tbody tr th {\n",
       "        vertical-align: top;\n",
       "    }\n",
       "\n",
       "    .dataframe thead th {\n",
       "        text-align: right;\n",
       "    }\n",
       "</style>\n",
       "<table border=\"1\" class=\"dataframe\">\n",
       "  <thead>\n",
       "    <tr style=\"text-align: right;\">\n",
       "      <th></th>\n",
       "      <th>0</th>\n",
       "      <th>1</th>\n",
       "      <th>2</th>\n",
       "      <th>3</th>\n",
       "      <th>4</th>\n",
       "    </tr>\n",
       "  </thead>\n",
       "  <tbody>\n",
       "    <tr>\n",
       "      <th>Type</th>\n",
       "      <td>2</td>\n",
       "      <td>2</td>\n",
       "      <td>1</td>\n",
       "      <td>1</td>\n",
       "      <td>1</td>\n",
       "    </tr>\n",
       "    <tr>\n",
       "      <th>Name</th>\n",
       "      <td>Nibble</td>\n",
       "      <td>No Name Yet</td>\n",
       "      <td>Brisco</td>\n",
       "      <td>Miko</td>\n",
       "      <td>Hunter</td>\n",
       "    </tr>\n",
       "    <tr>\n",
       "      <th>Age</th>\n",
       "      <td>3</td>\n",
       "      <td>1</td>\n",
       "      <td>1</td>\n",
       "      <td>4</td>\n",
       "      <td>1</td>\n",
       "    </tr>\n",
       "    <tr>\n",
       "      <th>Breed1</th>\n",
       "      <td>299</td>\n",
       "      <td>265</td>\n",
       "      <td>307</td>\n",
       "      <td>307</td>\n",
       "      <td>307</td>\n",
       "    </tr>\n",
       "    <tr>\n",
       "      <th>Breed2</th>\n",
       "      <td>0</td>\n",
       "      <td>0</td>\n",
       "      <td>0</td>\n",
       "      <td>0</td>\n",
       "      <td>0</td>\n",
       "    </tr>\n",
       "    <tr>\n",
       "      <th>Gender</th>\n",
       "      <td>1</td>\n",
       "      <td>1</td>\n",
       "      <td>1</td>\n",
       "      <td>2</td>\n",
       "      <td>1</td>\n",
       "    </tr>\n",
       "    <tr>\n",
       "      <th>Color1</th>\n",
       "      <td>1</td>\n",
       "      <td>1</td>\n",
       "      <td>2</td>\n",
       "      <td>1</td>\n",
       "      <td>1</td>\n",
       "    </tr>\n",
       "    <tr>\n",
       "      <th>Color2</th>\n",
       "      <td>7</td>\n",
       "      <td>2</td>\n",
       "      <td>7</td>\n",
       "      <td>2</td>\n",
       "      <td>0</td>\n",
       "    </tr>\n",
       "    <tr>\n",
       "      <th>Color3</th>\n",
       "      <td>0</td>\n",
       "      <td>0</td>\n",
       "      <td>0</td>\n",
       "      <td>0</td>\n",
       "      <td>0</td>\n",
       "    </tr>\n",
       "    <tr>\n",
       "      <th>MaturitySize</th>\n",
       "      <td>1</td>\n",
       "      <td>2</td>\n",
       "      <td>2</td>\n",
       "      <td>2</td>\n",
       "      <td>2</td>\n",
       "    </tr>\n",
       "    <tr>\n",
       "      <th>FurLength</th>\n",
       "      <td>1</td>\n",
       "      <td>2</td>\n",
       "      <td>2</td>\n",
       "      <td>1</td>\n",
       "      <td>1</td>\n",
       "    </tr>\n",
       "    <tr>\n",
       "      <th>Vaccinated</th>\n",
       "      <td>2</td>\n",
       "      <td>3</td>\n",
       "      <td>1</td>\n",
       "      <td>1</td>\n",
       "      <td>2</td>\n",
       "    </tr>\n",
       "    <tr>\n",
       "      <th>Dewormed</th>\n",
       "      <td>2</td>\n",
       "      <td>3</td>\n",
       "      <td>1</td>\n",
       "      <td>1</td>\n",
       "      <td>2</td>\n",
       "    </tr>\n",
       "    <tr>\n",
       "      <th>Sterilized</th>\n",
       "      <td>2</td>\n",
       "      <td>3</td>\n",
       "      <td>2</td>\n",
       "      <td>2</td>\n",
       "      <td>2</td>\n",
       "    </tr>\n",
       "    <tr>\n",
       "      <th>Health</th>\n",
       "      <td>1</td>\n",
       "      <td>1</td>\n",
       "      <td>1</td>\n",
       "      <td>1</td>\n",
       "      <td>1</td>\n",
       "    </tr>\n",
       "    <tr>\n",
       "      <th>Quantity</th>\n",
       "      <td>1</td>\n",
       "      <td>1</td>\n",
       "      <td>1</td>\n",
       "      <td>1</td>\n",
       "      <td>1</td>\n",
       "    </tr>\n",
       "    <tr>\n",
       "      <th>Fee</th>\n",
       "      <td>100</td>\n",
       "      <td>0</td>\n",
       "      <td>0</td>\n",
       "      <td>150</td>\n",
       "      <td>0</td>\n",
       "    </tr>\n",
       "    <tr>\n",
       "      <th>State</th>\n",
       "      <td>41326</td>\n",
       "      <td>41401</td>\n",
       "      <td>41326</td>\n",
       "      <td>41401</td>\n",
       "      <td>41326</td>\n",
       "    </tr>\n",
       "    <tr>\n",
       "      <th>RescuerID</th>\n",
       "      <td>8480853f516546f6cf33aa88cd76c379</td>\n",
       "      <td>3082c7125d8fb66f7dd4bff4192c8b14</td>\n",
       "      <td>fa90fa5b1ee11c86938398b60abc32cb</td>\n",
       "      <td>9238e4f44c71a75282e62f7136c6b240</td>\n",
       "      <td>95481e953f8aed9ec3d16fc4509537e8</td>\n",
       "    </tr>\n",
       "    <tr>\n",
       "      <th>VideoAmt</th>\n",
       "      <td>0</td>\n",
       "      <td>0</td>\n",
       "      <td>0</td>\n",
       "      <td>0</td>\n",
       "      <td>0</td>\n",
       "    </tr>\n",
       "    <tr>\n",
       "      <th>Description</th>\n",
       "      <td>Nibble is a 3+ month old ball of cuteness. He ...</td>\n",
       "      <td>I just found it alone yesterday near my apartm...</td>\n",
       "      <td>Their pregnant mother was dumped by her irresp...</td>\n",
       "      <td>Good guard dog, very alert, active, obedience ...</td>\n",
       "      <td>This handsome yet cute boy is up for adoption....</td>\n",
       "    </tr>\n",
       "    <tr>\n",
       "      <th>PetID</th>\n",
       "      <td>86e1089a3</td>\n",
       "      <td>6296e909a</td>\n",
       "      <td>3422e4906</td>\n",
       "      <td>5842f1ff5</td>\n",
       "      <td>850a43f90</td>\n",
       "    </tr>\n",
       "    <tr>\n",
       "      <th>PhotoAmt</th>\n",
       "      <td>1</td>\n",
       "      <td>2</td>\n",
       "      <td>7</td>\n",
       "      <td>8</td>\n",
       "      <td>3</td>\n",
       "    </tr>\n",
       "    <tr>\n",
       "      <th>AdoptionSpeed</th>\n",
       "      <td>2</td>\n",
       "      <td>0</td>\n",
       "      <td>3</td>\n",
       "      <td>2</td>\n",
       "      <td>2</td>\n",
       "    </tr>\n",
       "  </tbody>\n",
       "</table>\n",
       "</div>"
      ],
      "text/plain": [
       "                                                               0  \\\n",
       "Type                                                           2   \n",
       "Name                                                      Nibble   \n",
       "Age                                                            3   \n",
       "Breed1                                                       299   \n",
       "Breed2                                                         0   \n",
       "Gender                                                         1   \n",
       "Color1                                                         1   \n",
       "Color2                                                         7   \n",
       "Color3                                                         0   \n",
       "MaturitySize                                                   1   \n",
       "FurLength                                                      1   \n",
       "Vaccinated                                                     2   \n",
       "Dewormed                                                       2   \n",
       "Sterilized                                                     2   \n",
       "Health                                                         1   \n",
       "Quantity                                                       1   \n",
       "Fee                                                          100   \n",
       "State                                                      41326   \n",
       "RescuerID                       8480853f516546f6cf33aa88cd76c379   \n",
       "VideoAmt                                                       0   \n",
       "Description    Nibble is a 3+ month old ball of cuteness. He ...   \n",
       "PetID                                                  86e1089a3   \n",
       "PhotoAmt                                                       1   \n",
       "AdoptionSpeed                                                  2   \n",
       "\n",
       "                                                               1  \\\n",
       "Type                                                           2   \n",
       "Name                                                 No Name Yet   \n",
       "Age                                                            1   \n",
       "Breed1                                                       265   \n",
       "Breed2                                                         0   \n",
       "Gender                                                         1   \n",
       "Color1                                                         1   \n",
       "Color2                                                         2   \n",
       "Color3                                                         0   \n",
       "MaturitySize                                                   2   \n",
       "FurLength                                                      2   \n",
       "Vaccinated                                                     3   \n",
       "Dewormed                                                       3   \n",
       "Sterilized                                                     3   \n",
       "Health                                                         1   \n",
       "Quantity                                                       1   \n",
       "Fee                                                            0   \n",
       "State                                                      41401   \n",
       "RescuerID                       3082c7125d8fb66f7dd4bff4192c8b14   \n",
       "VideoAmt                                                       0   \n",
       "Description    I just found it alone yesterday near my apartm...   \n",
       "PetID                                                  6296e909a   \n",
       "PhotoAmt                                                       2   \n",
       "AdoptionSpeed                                                  0   \n",
       "\n",
       "                                                               2  \\\n",
       "Type                                                           1   \n",
       "Name                                                      Brisco   \n",
       "Age                                                            1   \n",
       "Breed1                                                       307   \n",
       "Breed2                                                         0   \n",
       "Gender                                                         1   \n",
       "Color1                                                         2   \n",
       "Color2                                                         7   \n",
       "Color3                                                         0   \n",
       "MaturitySize                                                   2   \n",
       "FurLength                                                      2   \n",
       "Vaccinated                                                     1   \n",
       "Dewormed                                                       1   \n",
       "Sterilized                                                     2   \n",
       "Health                                                         1   \n",
       "Quantity                                                       1   \n",
       "Fee                                                            0   \n",
       "State                                                      41326   \n",
       "RescuerID                       fa90fa5b1ee11c86938398b60abc32cb   \n",
       "VideoAmt                                                       0   \n",
       "Description    Their pregnant mother was dumped by her irresp...   \n",
       "PetID                                                  3422e4906   \n",
       "PhotoAmt                                                       7   \n",
       "AdoptionSpeed                                                  3   \n",
       "\n",
       "                                                               3  \\\n",
       "Type                                                           1   \n",
       "Name                                                        Miko   \n",
       "Age                                                            4   \n",
       "Breed1                                                       307   \n",
       "Breed2                                                         0   \n",
       "Gender                                                         2   \n",
       "Color1                                                         1   \n",
       "Color2                                                         2   \n",
       "Color3                                                         0   \n",
       "MaturitySize                                                   2   \n",
       "FurLength                                                      1   \n",
       "Vaccinated                                                     1   \n",
       "Dewormed                                                       1   \n",
       "Sterilized                                                     2   \n",
       "Health                                                         1   \n",
       "Quantity                                                       1   \n",
       "Fee                                                          150   \n",
       "State                                                      41401   \n",
       "RescuerID                       9238e4f44c71a75282e62f7136c6b240   \n",
       "VideoAmt                                                       0   \n",
       "Description    Good guard dog, very alert, active, obedience ...   \n",
       "PetID                                                  5842f1ff5   \n",
       "PhotoAmt                                                       8   \n",
       "AdoptionSpeed                                                  2   \n",
       "\n",
       "                                                               4  \n",
       "Type                                                           1  \n",
       "Name                                                      Hunter  \n",
       "Age                                                            1  \n",
       "Breed1                                                       307  \n",
       "Breed2                                                         0  \n",
       "Gender                                                         1  \n",
       "Color1                                                         1  \n",
       "Color2                                                         0  \n",
       "Color3                                                         0  \n",
       "MaturitySize                                                   2  \n",
       "FurLength                                                      1  \n",
       "Vaccinated                                                     2  \n",
       "Dewormed                                                       2  \n",
       "Sterilized                                                     2  \n",
       "Health                                                         1  \n",
       "Quantity                                                       1  \n",
       "Fee                                                            0  \n",
       "State                                                      41326  \n",
       "RescuerID                       95481e953f8aed9ec3d16fc4509537e8  \n",
       "VideoAmt                                                       0  \n",
       "Description    This handsome yet cute boy is up for adoption....  \n",
       "PetID                                                  850a43f90  \n",
       "PhotoAmt                                                       3  \n",
       "AdoptionSpeed                                                  2  "
      ]
     },
     "execution_count": 8,
     "metadata": {},
     "output_type": "execute_result"
    }
   ],
   "source": [
    "train.head().T"
   ]
  },
  {
   "cell_type": "code",
   "execution_count": 9,
   "metadata": {},
   "outputs": [
    {
     "name": "stdout",
     "output_type": "stream",
     "text": [
      "<class 'pandas.core.frame.DataFrame'>\n",
      "RangeIndex: 14993 entries, 0 to 14992\n",
      "Data columns (total 24 columns):\n",
      " #   Column         Non-Null Count  Dtype  \n",
      "---  ------         --------------  -----  \n",
      " 0   Type           14993 non-null  int64  \n",
      " 1   Name           13736 non-null  object \n",
      " 2   Age            14993 non-null  int64  \n",
      " 3   Breed1         14993 non-null  int64  \n",
      " 4   Breed2         14993 non-null  int64  \n",
      " 5   Gender         14993 non-null  int64  \n",
      " 6   Color1         14993 non-null  int64  \n",
      " 7   Color2         14993 non-null  int64  \n",
      " 8   Color3         14993 non-null  int64  \n",
      " 9   MaturitySize   14993 non-null  int64  \n",
      " 10  FurLength      14993 non-null  int64  \n",
      " 11  Vaccinated     14993 non-null  int64  \n",
      " 12  Dewormed       14993 non-null  int64  \n",
      " 13  Sterilized     14993 non-null  int64  \n",
      " 14  Health         14993 non-null  int64  \n",
      " 15  Quantity       14993 non-null  int64  \n",
      " 16  Fee            14993 non-null  int64  \n",
      " 17  State          14993 non-null  int64  \n",
      " 18  RescuerID      14993 non-null  object \n",
      " 19  VideoAmt       14993 non-null  int64  \n",
      " 20  Description    14981 non-null  object \n",
      " 21  PetID          14993 non-null  object \n",
      " 22  PhotoAmt       14993 non-null  float64\n",
      " 23  AdoptionSpeed  14993 non-null  int64  \n",
      "dtypes: float64(1), int64(19), object(4)\n",
      "memory usage: 2.7+ MB\n"
     ]
    }
   ],
   "source": [
    "train.info()"
   ]
  },
  {
   "cell_type": "code",
   "execution_count": 10,
   "metadata": {},
   "outputs": [
    {
     "name": "stdout",
     "output_type": "stream",
     "text": [
      "Sorted missing values in descending order:\n"
     ]
    },
    {
     "data": {
      "text/html": [
       "<div>\n",
       "<style scoped>\n",
       "    .dataframe tbody tr th:only-of-type {\n",
       "        vertical-align: middle;\n",
       "    }\n",
       "\n",
       "    .dataframe tbody tr th {\n",
       "        vertical-align: top;\n",
       "    }\n",
       "\n",
       "    .dataframe thead th {\n",
       "        text-align: right;\n",
       "    }\n",
       "</style>\n",
       "<table border=\"1\" class=\"dataframe\">\n",
       "  <thead>\n",
       "    <tr style=\"text-align: right;\">\n",
       "      <th></th>\n",
       "      <th>total</th>\n",
       "      <th>percent</th>\n",
       "    </tr>\n",
       "  </thead>\n",
       "  <tbody>\n",
       "    <tr>\n",
       "      <th>Name</th>\n",
       "      <td>1257</td>\n",
       "      <td>8.383912</td>\n",
       "    </tr>\n",
       "    <tr>\n",
       "      <th>Description</th>\n",
       "      <td>12</td>\n",
       "      <td>0.080037</td>\n",
       "    </tr>\n",
       "    <tr>\n",
       "      <th>AdoptionSpeed</th>\n",
       "      <td>0</td>\n",
       "      <td>0.000000</td>\n",
       "    </tr>\n",
       "    <tr>\n",
       "      <th>FurLength</th>\n",
       "      <td>0</td>\n",
       "      <td>0.000000</td>\n",
       "    </tr>\n",
       "    <tr>\n",
       "      <th>Age</th>\n",
       "      <td>0</td>\n",
       "      <td>0.000000</td>\n",
       "    </tr>\n",
       "    <tr>\n",
       "      <th>Breed1</th>\n",
       "      <td>0</td>\n",
       "      <td>0.000000</td>\n",
       "    </tr>\n",
       "    <tr>\n",
       "      <th>Breed2</th>\n",
       "      <td>0</td>\n",
       "      <td>0.000000</td>\n",
       "    </tr>\n",
       "    <tr>\n",
       "      <th>Gender</th>\n",
       "      <td>0</td>\n",
       "      <td>0.000000</td>\n",
       "    </tr>\n",
       "    <tr>\n",
       "      <th>Color1</th>\n",
       "      <td>0</td>\n",
       "      <td>0.000000</td>\n",
       "    </tr>\n",
       "    <tr>\n",
       "      <th>Color2</th>\n",
       "      <td>0</td>\n",
       "      <td>0.000000</td>\n",
       "    </tr>\n",
       "    <tr>\n",
       "      <th>Color3</th>\n",
       "      <td>0</td>\n",
       "      <td>0.000000</td>\n",
       "    </tr>\n",
       "    <tr>\n",
       "      <th>MaturitySize</th>\n",
       "      <td>0</td>\n",
       "      <td>0.000000</td>\n",
       "    </tr>\n",
       "    <tr>\n",
       "      <th>Vaccinated</th>\n",
       "      <td>0</td>\n",
       "      <td>0.000000</td>\n",
       "    </tr>\n",
       "    <tr>\n",
       "      <th>PhotoAmt</th>\n",
       "      <td>0</td>\n",
       "      <td>0.000000</td>\n",
       "    </tr>\n",
       "    <tr>\n",
       "      <th>Dewormed</th>\n",
       "      <td>0</td>\n",
       "      <td>0.000000</td>\n",
       "    </tr>\n",
       "    <tr>\n",
       "      <th>Sterilized</th>\n",
       "      <td>0</td>\n",
       "      <td>0.000000</td>\n",
       "    </tr>\n",
       "    <tr>\n",
       "      <th>Health</th>\n",
       "      <td>0</td>\n",
       "      <td>0.000000</td>\n",
       "    </tr>\n",
       "    <tr>\n",
       "      <th>Quantity</th>\n",
       "      <td>0</td>\n",
       "      <td>0.000000</td>\n",
       "    </tr>\n",
       "    <tr>\n",
       "      <th>Fee</th>\n",
       "      <td>0</td>\n",
       "      <td>0.000000</td>\n",
       "    </tr>\n",
       "    <tr>\n",
       "      <th>State</th>\n",
       "      <td>0</td>\n",
       "      <td>0.000000</td>\n",
       "    </tr>\n",
       "  </tbody>\n",
       "</table>\n",
       "</div>"
      ],
      "text/plain": [
       "               total   percent\n",
       "Name            1257  8.383912\n",
       "Description       12  0.080037\n",
       "AdoptionSpeed      0  0.000000\n",
       "FurLength          0  0.000000\n",
       "Age                0  0.000000\n",
       "Breed1             0  0.000000\n",
       "Breed2             0  0.000000\n",
       "Gender             0  0.000000\n",
       "Color1             0  0.000000\n",
       "Color2             0  0.000000\n",
       "Color3             0  0.000000\n",
       "MaturitySize       0  0.000000\n",
       "Vaccinated         0  0.000000\n",
       "PhotoAmt           0  0.000000\n",
       "Dewormed           0  0.000000\n",
       "Sterilized         0  0.000000\n",
       "Health             0  0.000000\n",
       "Quantity           0  0.000000\n",
       "Fee                0  0.000000\n",
       "State              0  0.000000"
      ]
     },
     "execution_count": 10,
     "metadata": {},
     "output_type": "execute_result"
    }
   ],
   "source": [
    "# Missing values\n",
    "total = train.isnull().sum().sort_values(ascending=False)\n",
    "percent = ((train.isnull().sum()/train.isnull().count()) * 100).sort_values(ascending=False)\n",
    "missing_values = pd.concat([total,percent], axis=1, keys = [\"total\",\"percent\"])\n",
    "print(\"Sorted missing values in descending order:\")\n",
    "missing_values.head(20)"
   ]
  },
  {
   "cell_type": "markdown",
   "metadata": {},
   "source": [
    "The dataset is mostly numeric. Names has about 8.38% of missing entries, since they are strayed animals and they can't say their names. It is quite understandable. I might take out th ones with missing description since the dataset is large enough. I am planning to do some sentiment analysis to see how the description helps with adoption speed."
   ]
  },
  {
   "cell_type": "markdown",
   "metadata": {},
   "source": [
    "### Which pet types are the most strayed?"
   ]
  },
  {
   "cell_type": "code",
   "execution_count": 11,
   "metadata": {},
   "outputs": [],
   "source": [
    "df_train = train.copy()\n",
    "df_train[\"Type\"] = df_train[\"Type\"].replace({1: \"Dog\", 2: \"Cat\"})\n",
    "df_train[\"AdoptionSpeed\"] = df_train[\"AdoptionSpeed\"].replace({0: \"Same Day\", 1: \"1-7 days\",\n",
    "                        2:\"8 - 30 days\", 3: \"31-90 days\",4:\"> 100 days - None\"})\n",
    "df_train[\"Health\"] = df_train[\"Health\"].replace({1: \"Healthy\", 2: \"Minor injury\",\n",
    "                            3:\"Serious injury\", 0:\"Not specified\"})\n",
    "df_train[\"Vaccinated\"] = df_train[\"Vaccinated\"].replace({1: \"Yes\", 2: \"No\",\n",
    "                            3:\"Not sure\"})\n",
    "df_train[\"Gender\"] = df_train[\"Gender\"].replace({1: \"Male\", 2: \"Female\",\n",
    "                            3:\"Mixed\"})\n",
    "df_train[\"Color1\"] = df_train[\"Color1\"].replace({1: \"Black\", 2: \"Brown\",\n",
    "                            3:\"Golden\", 4:\"Yellow\", 5:\"Cream\", 6: \"Gray\", 7:\"White\"})\n",
    "df_train[\"Color2\"] = df_train[\"Color2\"].replace({1: \"Black\", 2: \"Brown\",\n",
    "                            3:\"Golden\", 4:\"Yellow\", 5:\"Cream\", 6: \"Gray\", 7:\"White\"})\n",
    "df_train[\"MaturitySize\"] = df_train[\"MaturitySize\"].replace({1: \"Small\", 2: \"Medium\",\n",
    "                            3:\"Large\", 4:\"X-Large\", 0:\"Not specified\"}) \n",
    "df_train[\"FurLength\"] = df_train[\"FurLength\"].replace({1: \"Short\", 2: \"Medium\",\n",
    "                            3:\"Long\",0:\"Not specified\"}) \n",
    "df_train[\"Dewormed\"] = df_train[\"Dewormed\"].replace({1: \"Yes\", 2: \"No\",\n",
    "                            3:\"Not sure\"})\n",
    "df_train[\"Sterilized\"] = df_train[\"Sterilized\"].replace({1: \"Yes\", 2: \"No\",\n",
    "                            3:\"Not sure\"})\n",
    "\n"
   ]
  },
  {
   "cell_type": "code",
   "execution_count": 12,
   "metadata": {},
   "outputs": [
    {
     "data": {
      "image/png": "[encoded data removed]",
      "text/plain": [
       "<Figure size 720x432 with 1 Axes>"
      ]
     },
     "metadata": {},
     "output_type": "display_data"
    }
   ],
   "source": [
    "pet_type = df_train.groupby(\"Type\").count()\n",
    "pie, ax = plt.subplots(figsize=[10,6])\n",
    "labels = pet_type[\"Breed1\"].keys()\n",
    "plt.pie(x=pet_type[\"Breed1\"], autopct=\"%.1f%%\", explode=[0.05]*2, labels=labels, pctdistance=0.5)\n",
    "plt.title(\"Types of pets in the dataset\", fontsize=14);"
   ]
  },
  {
   "cell_type": "markdown",
   "metadata": {},
   "source": [
    "### Which pets have the fastest adoption speed?"
   ]
  },
  {
   "cell_type": "code",
   "execution_count": 69,
   "metadata": {},
   "outputs": [
    {
     "data": {
      "image/png": "[encoded data removed]",
      "text/plain": [
       "<Figure size 720x432 with 1 Axes>"
      ]
     },
     "metadata": {
      "needs_background": "light"
     },
     "output_type": "display_data"
    }
   ],
   "source": [
    "plot(\"Type\")\n",
    "plt.title('Number of cats and dogs based on adoption speed');\n"
   ]
  },
  {
   "cell_type": "markdown",
   "metadata": {},
   "source": [
    "Cats are adopted faster than dogs for the first seven days at least compared to dogs."
   ]
  },
  {
   "cell_type": "markdown",
   "metadata": {},
   "source": [
    "### Is adoption speed based on health of the animal?"
   ]
  },
  {
   "cell_type": "code",
   "execution_count": 68,
   "metadata": {},
   "outputs": [
    {
     "data": {
      "image/png": "[encoded data removed]",
      "text/plain": [
       "<Figure size 720x432 with 1 Axes>"
      ]
     },
     "metadata": {
      "needs_background": "light"
     },
     "output_type": "display_data"
    }
   ],
   "source": [
    "plot(\"Health\")\n",
    "plt.title('Health status based on adoption speed');\n"
   ]
  },
  {
   "cell_type": "code",
   "execution_count": 45,
   "metadata": {},
   "outputs": [
    {
     "data": {
      "text/plain": [
       "Healthy           14478\n",
       "Minor injury        481\n",
       "Serious injury       34\n",
       "Name: Health, dtype: int64"
      ]
     },
     "execution_count": 45,
     "metadata": {},
     "output_type": "execute_result"
    }
   ],
   "source": [
    "df_train[\"Health\"].value_counts()"
   ]
  },
  {
   "cell_type": "markdown",
   "metadata": {},
   "source": [
    "Adoption speed doesn't look like it is tied to the health of the animal. If we compare the population of injured animal to their adoption speed."
   ]
  },
  {
   "cell_type": "markdown",
   "metadata": {},
   "source": [
    "### Is adoption speed based on vaccination of the animal?"
   ]
  },
  {
   "cell_type": "code",
   "execution_count": 67,
   "metadata": {},
   "outputs": [
    {
     "data": {
      "text/plain": [
       "Text(0.5, 1.0, 'Vaccination based on adoption speed')"
      ]
     },
     "execution_count": 67,
     "metadata": {},
     "output_type": "execute_result"
    },
    {
     "data": {
      "image/png": "[encoded data removed]",
      "text/plain": [
       "<Figure size 720x432 with 1 Axes>"
      ]
     },
     "metadata": {
      "needs_background": "light"
     },
     "output_type": "display_data"
    }
   ],
   "source": [
    "plot(\"Vaccinated\")\n",
    "plt.title('Vaccination based on adoption speed')"
   ]
  },
  {
   "cell_type": "markdown",
   "metadata": {},
   "source": [
    "Vaccination does not determine how fast an animal is adopted. The vaccinated animal has like the highest percentage among the animals with no adoption "
   ]
  },
  {
   "cell_type": "markdown",
   "metadata": {},
   "source": [
    "### Do people prefer to adopt dewormed pets?"
   ]
  },
  {
   "cell_type": "code",
   "execution_count": 76,
   "metadata": {},
   "outputs": [
    {
     "data": {
      "image/png": "[encoded data removed]",
      "text/plain": [
       "<Figure size 720x432 with 1 Axes>"
      ]
     },
     "metadata": {
      "needs_background": "light"
     },
     "output_type": "display_data"
    }
   ],
   "source": [
    "plot(\"Dewormed\")\n",
    "plt.title('Dewormed pets on on adoption speed');"
   ]
  },
  {
   "cell_type": "markdown",
   "metadata": {},
   "source": [
    "### Are male animals adopted faster than female?"
   ]
  },
  {
   "cell_type": "code",
   "execution_count": 70,
   "metadata": {},
   "outputs": [
    {
     "data": {
      "image/png": "[encoded data removed]",
      "text/plain": [
       "<Figure size 720x432 with 1 Axes>"
      ]
     },
     "metadata": {
      "needs_background": "light"
     },
     "output_type": "display_data"
    }
   ],
   "source": [
    "plot(\"Gender\")\n",
    "plt.title('Gender based on adoption speed')\n"
   ]
  },
  {
   "cell_type": "code",
   "execution_count": 48,
   "metadata": {},
   "outputs": [
    {
     "data": {
      "text/plain": [
       "Female    7277\n",
       "Male      5536\n",
       "Mixed     2180\n",
       "Name: Gender, dtype: int64"
      ]
     },
     "execution_count": 48,
     "metadata": {},
     "output_type": "execute_result"
    }
   ],
   "source": [
    "df_train[\"Gender\"].value_counts()"
   ]
  },
  {
   "cell_type": "markdown",
   "metadata": {},
   "source": [
    "The graph clearly shows female animals are adopted faster than male and mixed gender. Though a drill dwon to the population of female animals to other genders in the dataset might shed some light. This is because, a large percentage of female animals are still left behind after hundred days."
   ]
  },
  {
   "cell_type": "code",
   "execution_count": 55,
   "metadata": {},
   "outputs": [],
   "source": [
    "df_train['Name'] = df_train['Name'].fillna('Unnamed')"
   ]
  },
  {
   "cell_type": "code",
   "execution_count": 57,
   "metadata": {},
   "outputs": [],
   "source": [
    "#Create a new column called pure breed\n",
    "df_train['pure_breed']= df_train['Breed2'].apply(lambda x: True if (x == 0) else False)"
   ]
  },
  {
   "cell_type": "code",
   "execution_count": 60,
   "metadata": {},
   "outputs": [],
   "source": [
    "# Create a new column for mixed color\n",
    "df_train['mixed_color']= df_train['Color2'].apply(lambda x: False if (x == 0) else True)"
   ]
  },
  {
   "cell_type": "markdown",
   "metadata": {},
   "source": [
    "### Are purebreeds adopted faster than mixed breeds?"
   ]
  },
  {
   "cell_type": "code",
   "execution_count": 73,
   "metadata": {},
   "outputs": [
    {
     "data": {
      "image/png": "[encoded data removed]",
      "text/plain": [
       "<Figure size 720x432 with 1 Axes>"
      ]
     },
     "metadata": {
      "needs_background": "light"
     },
     "output_type": "display_data"
    }
   ],
   "source": [
    "plot(\"pure_breed\")\n",
    "plt.title('pure breeds based on adoption speed');"
   ]
  },
  {
   "cell_type": "markdown",
   "metadata": {},
   "source": [
    "Not really, if we compare the population of pure breeds to that of mixed breeds."
   ]
  },
  {
   "cell_type": "markdown",
   "metadata": {},
   "source": [
    "### is adoption speed based on color?"
   ]
  },
  {
   "cell_type": "code",
   "execution_count": 74,
   "metadata": {},
   "outputs": [
    {
     "data": {
      "image/png": "[encoded data removed]",
      "text/plain": [
       "<Figure size 720x432 with 1 Axes>"
      ]
     },
     "metadata": {
      "needs_background": "light"
     },
     "output_type": "display_data"
    }
   ],
   "source": [
    "plot(\"mixed_color\")\n",
    "plt.title('color based on adoption speed');\n"
   ]
  },
  {
   "cell_type": "code",
   "execution_count": 62,
   "metadata": {},
   "outputs": [
    {
     "data": {
      "text/plain": [
       "True     10522\n",
       "False     4471\n",
       "Name: mixed_color, dtype: int64"
      ]
     },
     "execution_count": 62,
     "metadata": {},
     "output_type": "execute_result"
    }
   ],
   "source": [
    "df_train[\"mixed_color\"].value_counts()"
   ]
  },
  {
   "cell_type": "markdown",
   "metadata": {},
   "source": [
    "If compared to the population of the mixed color to a single color, color can not really be said to have any significant effect on adoption speed."
   ]
  },
  {
   "cell_type": "code",
   "execution_count": null,
   "metadata": {},
   "outputs": [],
   "source": []
  }
 ],
 "metadata": {
  "interpreter": {
   "hash": "cd78fef2128015050713e82ca51c6520b11aee7c9ee8df750520bbbc7384cbaa"
  },
  "kernelspec": {
   "display_name": "Python 3.7.4 64-bit ('base': conda)",
   "name": "python3"
  },
  "language_info": {
   "codemirror_mode": {
    "name": "ipython",
    "version": 3
   },
   "file_extension": ".py",
   "mimetype": "text/x-python",
   "name": "python",
   "nbconvert_exporter": "python",
   "pygments_lexer": "ipython3",
   "version": "3.7.4"
  },
  "orig_nbformat": 4
 },
 "nbformat": 4,
 "nbformat_minor": 2
}
